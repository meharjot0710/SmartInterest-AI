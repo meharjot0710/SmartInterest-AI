{
 "cells": [
  {
   "cell_type": "markdown",
   "metadata": {},
   "source": [
    "Importing Libraries"
   ]
  },
  {
   "cell_type": "code",
   "execution_count": 1,
   "metadata": {},
   "outputs": [],
   "source": [
    "import pandas as pd\n",
    "from sklearn.model_selection import train_test_split\n",
    "from sklearn.preprocessing import LabelEncoder\n",
    "from xgboost import XGBClassifier\n",
    "from sklearn.metrics import accuracy_score\n",
    "from sklearn.metrics import classification_report, confusion_matrix\n",
    "import joblib"
   ]
  },
  {
   "cell_type": "markdown",
   "metadata": {},
   "source": [
    "Load the dataset"
   ]
  },
  {
   "cell_type": "code",
   "execution_count": 2,
   "metadata": {},
   "outputs": [
    {
     "data": {
      "text/html": [
       "<div>\n",
       "<style scoped>\n",
       "    .dataframe tbody tr th:only-of-type {\n",
       "        vertical-align: middle;\n",
       "    }\n",
       "\n",
       "    .dataframe tbody tr th {\n",
       "        vertical-align: top;\n",
       "    }\n",
       "\n",
       "    .dataframe thead th {\n",
       "        text-align: right;\n",
       "    }\n",
       "</style>\n",
       "<table border=\"1\" class=\"dataframe\">\n",
       "  <thead>\n",
       "    <tr style=\"text-align: right;\">\n",
       "      <th></th>\n",
       "      <th>Student ID</th>\n",
       "      <th>Operating System</th>\n",
       "      <th>DSA</th>\n",
       "      <th>Frontend</th>\n",
       "      <th>Backend</th>\n",
       "      <th>Machine Learning</th>\n",
       "      <th>Data Analytics</th>\n",
       "      <th>Project 1</th>\n",
       "      <th>Project 2</th>\n",
       "      <th>Project 3</th>\n",
       "      <th>Project 4</th>\n",
       "      <th>Interest Label</th>\n",
       "    </tr>\n",
       "  </thead>\n",
       "  <tbody>\n",
       "    <tr>\n",
       "      <th>0</th>\n",
       "      <td>1</td>\n",
       "      <td>7</td>\n",
       "      <td>67</td>\n",
       "      <td>46</td>\n",
       "      <td>65</td>\n",
       "      <td>22</td>\n",
       "      <td>82</td>\n",
       "      <td>Game Development</td>\n",
       "      <td>Cybersecurity</td>\n",
       "      <td>Robotics</td>\n",
       "      <td>Robotics</td>\n",
       "      <td>Game Development</td>\n",
       "    </tr>\n",
       "    <tr>\n",
       "      <th>1</th>\n",
       "      <td>2</td>\n",
       "      <td>39</td>\n",
       "      <td>76</td>\n",
       "      <td>61</td>\n",
       "      <td>76</td>\n",
       "      <td>66</td>\n",
       "      <td>46</td>\n",
       "      <td>Game Development</td>\n",
       "      <td>Machine Learning</td>\n",
       "      <td>Cybersecurity</td>\n",
       "      <td>Web Development</td>\n",
       "      <td>Machine Learning</td>\n",
       "    </tr>\n",
       "    <tr>\n",
       "      <th>2</th>\n",
       "      <td>3</td>\n",
       "      <td>35</td>\n",
       "      <td>28</td>\n",
       "      <td>80</td>\n",
       "      <td>64</td>\n",
       "      <td>89</td>\n",
       "      <td>36</td>\n",
       "      <td>AI</td>\n",
       "      <td>Game Development</td>\n",
       "      <td>AI</td>\n",
       "      <td>Robotics</td>\n",
       "      <td>AI</td>\n",
       "    </tr>\n",
       "    <tr>\n",
       "      <th>3</th>\n",
       "      <td>4</td>\n",
       "      <td>47</td>\n",
       "      <td>61</td>\n",
       "      <td>40</td>\n",
       "      <td>90</td>\n",
       "      <td>26</td>\n",
       "      <td>43</td>\n",
       "      <td>Web Development</td>\n",
       "      <td>Data Science</td>\n",
       "      <td>Machine Learning</td>\n",
       "      <td>Robotics</td>\n",
       "      <td>Web Development</td>\n",
       "    </tr>\n",
       "    <tr>\n",
       "      <th>4</th>\n",
       "      <td>5</td>\n",
       "      <td>43</td>\n",
       "      <td>87</td>\n",
       "      <td>16</td>\n",
       "      <td>48</td>\n",
       "      <td>52</td>\n",
       "      <td>29</td>\n",
       "      <td>Data Science</td>\n",
       "      <td>Robotics</td>\n",
       "      <td>Robotics</td>\n",
       "      <td>Cybersecurity</td>\n",
       "      <td>Data Science</td>\n",
       "    </tr>\n",
       "  </tbody>\n",
       "</table>\n",
       "</div>"
      ],
      "text/plain": [
       "   Student ID  Operating System  DSA  Frontend  Backend  Machine Learning  \\\n",
       "0           1                 7   67        46       65                22   \n",
       "1           2                39   76        61       76                66   \n",
       "2           3                35   28        80       64                89   \n",
       "3           4                47   61        40       90                26   \n",
       "4           5                43   87        16       48                52   \n",
       "\n",
       "   Data Analytics         Project 1         Project 2         Project 3  \\\n",
       "0              82  Game Development     Cybersecurity          Robotics   \n",
       "1              46  Game Development  Machine Learning     Cybersecurity   \n",
       "2              36                AI  Game Development                AI   \n",
       "3              43   Web Development      Data Science  Machine Learning   \n",
       "4              29      Data Science          Robotics          Robotics   \n",
       "\n",
       "         Project 4    Interest Label  \n",
       "0         Robotics  Game Development  \n",
       "1  Web Development  Machine Learning  \n",
       "2         Robotics                AI  \n",
       "3         Robotics   Web Development  \n",
       "4    Cybersecurity      Data Science  "
      ]
     },
     "execution_count": 2,
     "metadata": {},
     "output_type": "execute_result"
    }
   ],
   "source": [
    "# Load labeled dataset\n",
    "file_path = 'labeled_student_data_s.csv'\n",
    "df = pd.read_csv(file_path)\n",
    "\n",
    "# Remove 'Exploring' category\n",
    "df = df[df['Interest Label'] != 'Exploring']\n",
    "df.head()"
   ]
  },
  {
   "cell_type": "markdown",
   "metadata": {},
   "source": [
    "Mapping"
   ]
  },
  {
   "cell_type": "code",
   "execution_count": 3,
   "metadata": {},
   "outputs": [],
   "source": [
    "# Define feature columns (marks in subjects)\n",
    "subject_cols = ['Operating System', 'DSA', 'Frontend', 'Backend', 'Machine Learning', 'Data Analytics']\n",
    "\n",
    "# Define project columns\n",
    "project_cols = ['Project 1', 'Project 2', 'Project 3', 'Project 4']\n",
    "\n",
    "# Mapping of project domains to numeric values (1, 2, 3, 4, etc.)\n",
    "domain_mapping = {\n",
    "    'AI': 1,\n",
    "    'Web Development': 2,\n",
    "    'Machine Learning': 3,\n",
    "    'Cybersecurity': 4,\n",
    "    'Data Science': 5,\n",
    "    'Robotics': 6,\n",
    "    'Game Development': 7\n",
    "}\n",
    "\n",
    "# Encode project domains using the mapping (replace the domain names with numbers)\n",
    "for col in project_cols:\n",
    "    df[col] = df[col].map(domain_mapping)\n"
   ]
  },
  {
   "cell_type": "markdown",
   "metadata": {},
   "source": [
    "Combining the features"
   ]
  },
  {
   "cell_type": "code",
   "execution_count": 4,
   "metadata": {},
   "outputs": [],
   "source": [
    "# Combine subject marks and project features (now numeric)\n",
    "X = pd.concat([df[subject_cols].reset_index(drop=True), df[project_cols].reset_index(drop=True)], axis=1)\n",
    "\n",
    "# Define target column (Interest Label)\n",
    "y = df['Interest Label']\n"
   ]
  },
  {
   "cell_type": "markdown",
   "metadata": {},
   "source": [
    "Splitting the dataset"
   ]
  },
  {
   "cell_type": "code",
   "execution_count": 5,
   "metadata": {},
   "outputs": [],
   "source": [
    "# Split data into training and testing sets\n",
    "X_train, X_test, y_train, y_test = train_test_split(X, y, test_size=0.2, random_state=42)"
   ]
  },
  {
   "cell_type": "markdown",
   "metadata": {},
   "source": [
    "XGBoost"
   ]
  },
  {
   "cell_type": "code",
   "execution_count": 6,
   "metadata": {},
   "outputs": [
    {
     "name": "stdout",
     "output_type": "stream",
     "text": [
      "XGBoost Model Accuracy: 0.96\n"
     ]
    }
   ],
   "source": [
    "# Encode categorical target variable\n",
    "label_encoder = LabelEncoder()\n",
    "y_train_encoded = label_encoder.fit_transform(y_train)\n",
    "y_test_encoded = label_encoder.transform(y_test)\n",
    "\n",
    "# Train XGBoost model\n",
    "model = XGBClassifier(n_estimators=400, learning_rate=0.06, max_depth=10, random_state=42)\n",
    "model.fit(X_train, y_train_encoded)\n",
    "\n",
    "# Predictions\n",
    "y_pred = model.predict(X_test)\n",
    "\n",
    "# Convert predictions back to original labels\n",
    "y_pred_labels = label_encoder.inverse_transform(y_pred)\n",
    "\n",
    "# Model Accuracy\n",
    "accuracy = accuracy_score(y_test_encoded, y_pred)\n",
    "print(f\"XGBoost Model Accuracy: {accuracy:.2f}\")"
   ]
  },
  {
   "cell_type": "code",
   "execution_count": 7,
   "metadata": {},
   "outputs": [
    {
     "name": "stdout",
     "output_type": "stream",
     "text": [
      "[[ 6205    29    28    58     0    43    99]\n",
      " [   76  3138    35     0    30    35    67]\n",
      " [   40    36  8473   107    84    47    61]\n",
      " [   67     0   107  8077   148    33    92]\n",
      " [    0    48    45    99 12638    74    99]\n",
      " [   22    24    68    52    72  4675    52]\n",
      " [   42    31    45    56    89     2 14009]]\n",
      "              precision    recall  f1-score   support\n",
      "\n",
      "           0       0.96      0.96      0.96      6462\n",
      "           1       0.95      0.93      0.94      3381\n",
      "           2       0.96      0.96      0.96      8848\n",
      "           3       0.96      0.95      0.95      8524\n",
      "           4       0.97      0.97      0.97     13003\n",
      "           5       0.95      0.94      0.95      4965\n",
      "           6       0.97      0.98      0.97     14274\n",
      "\n",
      "    accuracy                           0.96     59457\n",
      "   macro avg       0.96      0.96      0.96     59457\n",
      "weighted avg       0.96      0.96      0.96     59457\n",
      "\n"
     ]
    }
   ],
   "source": [
    "print(confusion_matrix(y_test_encoded, y_pred))\n",
    "print(classification_report(y_test_encoded, y_pred))"
   ]
  },
  {
   "cell_type": "markdown",
   "metadata": {},
   "source": [
    "Testing"
   ]
  },
  {
   "cell_type": "code",
   "execution_count": 8,
   "metadata": {},
   "outputs": [
    {
     "name": "stdout",
     "output_type": "stream",
     "text": [
      "Predicted Interest: Robotics\n"
     ]
    }
   ],
   "source": [
    "# Example: One row of new data (similar to your training data structure)\n",
    "new_data = {\n",
    "    'Operating System': [95],\n",
    "    'DSA': [55],\n",
    "    'Frontend': [80],\n",
    "    'Backend': [95],\n",
    "    'Machine Learning': [68],\n",
    "    'Data Analytics': [92],\n",
    "    'Project 1': [6],  # Numeric values for projects (as per the domain_mapping)\n",
    "    'Project 2': [1],\n",
    "    'Project 3': [6],\n",
    "    'Project 4': [4]\n",
    "}\n",
    "\n",
    "# Convert to DataFrame\n",
    "new_data_df = pd.DataFrame(new_data)\n",
    "\n",
    "# Predict using the trained XGBoost model\n",
    "predicted_class = model.predict(new_data_df)\n",
    "\n",
    "# Decode the predicted label (if using Label Encoding)\n",
    "predicted_label = label_encoder.inverse_transform(predicted_class)\n",
    "print(f\"Predicted Interest: {predicted_label[0]}\")"
   ]
  },
  {
   "cell_type": "code",
   "execution_count": 9,
   "metadata": {},
   "outputs": [
    {
     "name": "stdout",
     "output_type": "stream",
     "text": [
      "Model saved successfully!\n"
     ]
    }
   ],
   "source": [
    "# Save the trained model\n",
    "joblib.dump(model, \"smartinterest_model.pkl\")\n",
    "joblib.dump(label_encoder, \"label_encoder.pkl\")\n",
    "\n",
    "print(\"Model saved successfully!\")"
   ]
  }
 ],
 "metadata": {
  "kernelspec": {
   "display_name": "Python 3",
   "language": "python",
   "name": "python3"
  },
  "language_info": {
   "codemirror_mode": {
    "name": "ipython",
    "version": 3
   },
   "file_extension": ".py",
   "mimetype": "text/x-python",
   "name": "python",
   "nbconvert_exporter": "python",
   "pygments_lexer": "ipython3",
   "version": "3.10.0"
  }
 },
 "nbformat": 4,
 "nbformat_minor": 2
}
