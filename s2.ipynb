{
 "cells": [
  {
   "cell_type": "markdown",
   "metadata": {},
   "source": [
    "Import Libraries"
   ]
  },
  {
   "cell_type": "code",
   "execution_count": 27,
   "metadata": {},
   "outputs": [],
   "source": [
    "import pandas as pd\n",
    "import numpy as np\n",
    "from sklearn.model_selection import train_test_split, GridSearchCV\n",
    "from sklearn.preprocessing import StandardScaler, LabelEncoder\n",
    "from sklearn.ensemble import RandomForestClassifier, StackingClassifier\n",
    "from sklearn.metrics import accuracy_score, classification_report\n",
    "from xgboost import XGBClassifier\n",
    "from imblearn.over_sampling import SMOTE\n"
   ]
  },
  {
   "cell_type": "markdown",
   "metadata": {},
   "source": [
    "Load Dataset"
   ]
  },
  {
   "cell_type": "code",
   "execution_count": 28,
   "metadata": {},
   "outputs": [
    {
     "data": {
      "text/html": [
       "<div>\n",
       "<style scoped>\n",
       "    .dataframe tbody tr th:only-of-type {\n",
       "        vertical-align: middle;\n",
       "    }\n",
       "\n",
       "    .dataframe tbody tr th {\n",
       "        vertical-align: top;\n",
       "    }\n",
       "\n",
       "    .dataframe thead th {\n",
       "        text-align: right;\n",
       "    }\n",
       "</style>\n",
       "<table border=\"1\" class=\"dataframe\">\n",
       "  <thead>\n",
       "    <tr style=\"text-align: right;\">\n",
       "      <th></th>\n",
       "      <th>Student ID</th>\n",
       "      <th>Operating System</th>\n",
       "      <th>DSA</th>\n",
       "      <th>Frontend</th>\n",
       "      <th>Backend</th>\n",
       "      <th>Machine Learning</th>\n",
       "      <th>Data Analytics</th>\n",
       "      <th>Project 1</th>\n",
       "      <th>Project 2</th>\n",
       "      <th>Project 3</th>\n",
       "      <th>Project 4</th>\n",
       "      <th>Interest Label</th>\n",
       "    </tr>\n",
       "  </thead>\n",
       "  <tbody>\n",
       "    <tr>\n",
       "      <th>0</th>\n",
       "      <td>1</td>\n",
       "      <td>52</td>\n",
       "      <td>5</td>\n",
       "      <td>6</td>\n",
       "      <td>6</td>\n",
       "      <td>14</td>\n",
       "      <td>93</td>\n",
       "      <td>Cybersecurity</td>\n",
       "      <td>Cybersecurity</td>\n",
       "      <td>Cybersecurity</td>\n",
       "      <td>Robotics</td>\n",
       "      <td>Robotics</td>\n",
       "    </tr>\n",
       "    <tr>\n",
       "      <th>1</th>\n",
       "      <td>2</td>\n",
       "      <td>41</td>\n",
       "      <td>65</td>\n",
       "      <td>80</td>\n",
       "      <td>65</td>\n",
       "      <td>75</td>\n",
       "      <td>34</td>\n",
       "      <td>Web Development</td>\n",
       "      <td>AI</td>\n",
       "      <td>Data Science</td>\n",
       "      <td>Game Development</td>\n",
       "      <td>AI</td>\n",
       "    </tr>\n",
       "    <tr>\n",
       "      <th>2</th>\n",
       "      <td>3</td>\n",
       "      <td>53</td>\n",
       "      <td>65</td>\n",
       "      <td>100</td>\n",
       "      <td>98</td>\n",
       "      <td>11</td>\n",
       "      <td>55</td>\n",
       "      <td>Robotics</td>\n",
       "      <td>Game Development</td>\n",
       "      <td>Data Science</td>\n",
       "      <td>Machine Learning</td>\n",
       "      <td>Machine Learning</td>\n",
       "    </tr>\n",
       "    <tr>\n",
       "      <th>3</th>\n",
       "      <td>4</td>\n",
       "      <td>62</td>\n",
       "      <td>97</td>\n",
       "      <td>97</td>\n",
       "      <td>9</td>\n",
       "      <td>97</td>\n",
       "      <td>91</td>\n",
       "      <td>AI</td>\n",
       "      <td>AI</td>\n",
       "      <td>Cybersecurity</td>\n",
       "      <td>AI</td>\n",
       "      <td>AI</td>\n",
       "    </tr>\n",
       "    <tr>\n",
       "      <th>4</th>\n",
       "      <td>5</td>\n",
       "      <td>49</td>\n",
       "      <td>46</td>\n",
       "      <td>76</td>\n",
       "      <td>8</td>\n",
       "      <td>89</td>\n",
       "      <td>28</td>\n",
       "      <td>Robotics</td>\n",
       "      <td>Cybersecurity</td>\n",
       "      <td>Machine Learning</td>\n",
       "      <td>Robotics</td>\n",
       "      <td>Machine Learning</td>\n",
       "    </tr>\n",
       "  </tbody>\n",
       "</table>\n",
       "</div>"
      ],
      "text/plain": [
       "   Student ID  Operating System  DSA  Frontend  Backend  Machine Learning  \\\n",
       "0           1                52    5         6        6                14   \n",
       "1           2                41   65        80       65                75   \n",
       "2           3                53   65       100       98                11   \n",
       "3           4                62   97        97        9                97   \n",
       "4           5                49   46        76        8                89   \n",
       "\n",
       "   Data Analytics        Project 1         Project 2         Project 3  \\\n",
       "0              93    Cybersecurity     Cybersecurity     Cybersecurity   \n",
       "1              34  Web Development                AI      Data Science   \n",
       "2              55         Robotics  Game Development      Data Science   \n",
       "3              91               AI                AI     Cybersecurity   \n",
       "4              28         Robotics     Cybersecurity  Machine Learning   \n",
       "\n",
       "          Project 4    Interest Label  \n",
       "0          Robotics          Robotics  \n",
       "1  Game Development                AI  \n",
       "2  Machine Learning  Machine Learning  \n",
       "3                AI                AI  \n",
       "4          Robotics  Machine Learning  "
      ]
     },
     "execution_count": 28,
     "metadata": {},
     "output_type": "execute_result"
    }
   ],
   "source": [
    "# Load the dataset (Make sure the CSV file is in the same directory as the Jupyter notebook)\n",
    "df = pd.read_csv(\"labeled_student_data_s.csv\")\n",
    "df.head()  # Display the first 5 rows"
   ]
  },
  {
   "cell_type": "markdown",
   "metadata": {},
   "source": [
    "Define Subject and Project Columns"
   ]
  },
  {
   "cell_type": "code",
   "execution_count": 29,
   "metadata": {},
   "outputs": [],
   "source": [
    "# Define subject and project columns\n",
    "subject_cols = ['Operating System', 'DSA', 'Frontend', 'Backend', 'Machine Learning', 'Data Analytics']\n",
    "project_cols = ['Project 1', 'Project 2', 'Project 3', 'Project 4']"
   ]
  },
  {
   "cell_type": "markdown",
   "metadata": {},
   "source": [
    "Function to Label Student Interest"
   ]
  },
  {
   "cell_type": "code",
   "execution_count": 30,
   "metadata": {},
   "outputs": [
    {
     "data": {
      "text/html": [
       "<div>\n",
       "<style scoped>\n",
       "    .dataframe tbody tr th:only-of-type {\n",
       "        vertical-align: middle;\n",
       "    }\n",
       "\n",
       "    .dataframe tbody tr th {\n",
       "        vertical-align: top;\n",
       "    }\n",
       "\n",
       "    .dataframe thead th {\n",
       "        text-align: right;\n",
       "    }\n",
       "</style>\n",
       "<table border=\"1\" class=\"dataframe\">\n",
       "  <thead>\n",
       "    <tr style=\"text-align: right;\">\n",
       "      <th></th>\n",
       "      <th>Student ID</th>\n",
       "      <th>Operating System</th>\n",
       "      <th>DSA</th>\n",
       "      <th>Frontend</th>\n",
       "      <th>Backend</th>\n",
       "      <th>Machine Learning</th>\n",
       "      <th>Data Analytics</th>\n",
       "      <th>Project 1</th>\n",
       "      <th>Project 2</th>\n",
       "      <th>Project 3</th>\n",
       "      <th>Project 4</th>\n",
       "      <th>Interest Label</th>\n",
       "    </tr>\n",
       "  </thead>\n",
       "  <tbody>\n",
       "    <tr>\n",
       "      <th>0</th>\n",
       "      <td>1</td>\n",
       "      <td>52</td>\n",
       "      <td>5</td>\n",
       "      <td>6</td>\n",
       "      <td>6</td>\n",
       "      <td>14</td>\n",
       "      <td>93</td>\n",
       "      <td>Cybersecurity</td>\n",
       "      <td>Cybersecurity</td>\n",
       "      <td>Cybersecurity</td>\n",
       "      <td>Robotics</td>\n",
       "      <td>Robotics</td>\n",
       "    </tr>\n",
       "    <tr>\n",
       "      <th>1</th>\n",
       "      <td>2</td>\n",
       "      <td>41</td>\n",
       "      <td>65</td>\n",
       "      <td>80</td>\n",
       "      <td>65</td>\n",
       "      <td>75</td>\n",
       "      <td>34</td>\n",
       "      <td>Web Development</td>\n",
       "      <td>AI</td>\n",
       "      <td>Data Science</td>\n",
       "      <td>Game Development</td>\n",
       "      <td>Web Development</td>\n",
       "    </tr>\n",
       "    <tr>\n",
       "      <th>2</th>\n",
       "      <td>3</td>\n",
       "      <td>53</td>\n",
       "      <td>65</td>\n",
       "      <td>100</td>\n",
       "      <td>98</td>\n",
       "      <td>11</td>\n",
       "      <td>55</td>\n",
       "      <td>Robotics</td>\n",
       "      <td>Game Development</td>\n",
       "      <td>Data Science</td>\n",
       "      <td>Machine Learning</td>\n",
       "      <td>Machine Learning</td>\n",
       "    </tr>\n",
       "    <tr>\n",
       "      <th>3</th>\n",
       "      <td>4</td>\n",
       "      <td>62</td>\n",
       "      <td>97</td>\n",
       "      <td>97</td>\n",
       "      <td>9</td>\n",
       "      <td>97</td>\n",
       "      <td>91</td>\n",
       "      <td>AI</td>\n",
       "      <td>AI</td>\n",
       "      <td>Cybersecurity</td>\n",
       "      <td>AI</td>\n",
       "      <td>Cybersecurity</td>\n",
       "    </tr>\n",
       "    <tr>\n",
       "      <th>4</th>\n",
       "      <td>5</td>\n",
       "      <td>49</td>\n",
       "      <td>46</td>\n",
       "      <td>76</td>\n",
       "      <td>8</td>\n",
       "      <td>89</td>\n",
       "      <td>28</td>\n",
       "      <td>Robotics</td>\n",
       "      <td>Cybersecurity</td>\n",
       "      <td>Machine Learning</td>\n",
       "      <td>Robotics</td>\n",
       "      <td>Machine Learning</td>\n",
       "    </tr>\n",
       "  </tbody>\n",
       "</table>\n",
       "</div>"
      ],
      "text/plain": [
       "   Student ID  Operating System  DSA  Frontend  Backend  Machine Learning  \\\n",
       "0           1                52    5         6        6                14   \n",
       "1           2                41   65        80       65                75   \n",
       "2           3                53   65       100       98                11   \n",
       "3           4                62   97        97        9                97   \n",
       "4           5                49   46        76        8                89   \n",
       "\n",
       "   Data Analytics        Project 1         Project 2         Project 3  \\\n",
       "0              93    Cybersecurity     Cybersecurity     Cybersecurity   \n",
       "1              34  Web Development                AI      Data Science   \n",
       "2              55         Robotics  Game Development      Data Science   \n",
       "3              91               AI                AI     Cybersecurity   \n",
       "4              28         Robotics     Cybersecurity  Machine Learning   \n",
       "\n",
       "          Project 4    Interest Label  \n",
       "0          Robotics          Robotics  \n",
       "1  Game Development   Web Development  \n",
       "2  Machine Learning  Machine Learning  \n",
       "3                AI     Cybersecurity  \n",
       "4          Robotics  Machine Learning  "
      ]
     },
     "execution_count": 30,
     "metadata": {},
     "output_type": "execute_result"
    }
   ],
   "source": [
    "import pandas as pd\n",
    "import numpy as np\n",
    "\n",
    "# Ensure subject columns are numeric\n",
    "df[subject_cols] = df[subject_cols].apply(pd.to_numeric, errors='coerce')\n",
    "\n",
    "# Function to determine the student's interest\n",
    "def determine_interest(row):\n",
    "    # Select numeric values only\n",
    "    top_subjects = row[subject_cols].astype(float).nlargest(3).index.tolist()  # Get top 3 subjects\n",
    "    projects = row[project_cols].dropna().tolist()  # Get all projects (remove NaNs)\n",
    "    \n",
    "    for project in projects:\n",
    "        if project in top_subjects:\n",
    "            return project  # Assign domain directly if a project matches a strong subject\n",
    "    \n",
    "    return np.random.choice(projects) if projects else \"Exploring\"  # Handle empty projects\n",
    "\n",
    "# Apply the function to label the dataset\n",
    "df['Interest Label'] = df.apply(determine_interest, axis=1)\n",
    "df.head()"
   ]
  },
  {
   "cell_type": "markdown",
   "metadata": {},
   "source": [
    "Encode Labels"
   ]
  },
  {
   "cell_type": "code",
   "execution_count": 31,
   "metadata": {},
   "outputs": [
    {
     "data": {
      "text/html": [
       "<div>\n",
       "<style scoped>\n",
       "    .dataframe tbody tr th:only-of-type {\n",
       "        vertical-align: middle;\n",
       "    }\n",
       "\n",
       "    .dataframe tbody tr th {\n",
       "        vertical-align: top;\n",
       "    }\n",
       "\n",
       "    .dataframe thead th {\n",
       "        text-align: right;\n",
       "    }\n",
       "</style>\n",
       "<table border=\"1\" class=\"dataframe\">\n",
       "  <thead>\n",
       "    <tr style=\"text-align: right;\">\n",
       "      <th></th>\n",
       "      <th>Interest Label</th>\n",
       "      <th>Interest Label Encoded</th>\n",
       "    </tr>\n",
       "  </thead>\n",
       "  <tbody>\n",
       "    <tr>\n",
       "      <th>0</th>\n",
       "      <td>Robotics</td>\n",
       "      <td>5</td>\n",
       "    </tr>\n",
       "    <tr>\n",
       "      <th>1</th>\n",
       "      <td>Web Development</td>\n",
       "      <td>6</td>\n",
       "    </tr>\n",
       "    <tr>\n",
       "      <th>2</th>\n",
       "      <td>Machine Learning</td>\n",
       "      <td>4</td>\n",
       "    </tr>\n",
       "    <tr>\n",
       "      <th>3</th>\n",
       "      <td>Cybersecurity</td>\n",
       "      <td>1</td>\n",
       "    </tr>\n",
       "    <tr>\n",
       "      <th>4</th>\n",
       "      <td>Machine Learning</td>\n",
       "      <td>4</td>\n",
       "    </tr>\n",
       "  </tbody>\n",
       "</table>\n",
       "</div>"
      ],
      "text/plain": [
       "     Interest Label  Interest Label Encoded\n",
       "0          Robotics                       5\n",
       "1   Web Development                       6\n",
       "2  Machine Learning                       4\n",
       "3     Cybersecurity                       1\n",
       "4  Machine Learning                       4"
      ]
     },
     "execution_count": 31,
     "metadata": {},
     "output_type": "execute_result"
    }
   ],
   "source": [
    "# Encode categorical labels (interest domains)\n",
    "label_encoder = LabelEncoder()\n",
    "df['Interest Label Encoded'] = label_encoder.fit_transform(df['Interest Label'])\n",
    "df[['Interest Label', 'Interest Label Encoded']].head()"
   ]
  },
  {
   "cell_type": "markdown",
   "metadata": {},
   "source": [
    "Define Features (X) and Target (y)"
   ]
  },
  {
   "cell_type": "code",
   "execution_count": 32,
   "metadata": {},
   "outputs": [],
   "source": [
    "# Define input features and target\n",
    "X = df[subject_cols]\n",
    "y = df['Interest Label Encoded']\n",
    "\n",
    "# Train-test split (80-20)\n",
    "X_train, X_test, y_train, y_test = train_test_split(X, y, test_size=0.2, random_state=42, stratify=y)"
   ]
  },
  {
   "cell_type": "markdown",
   "metadata": {},
   "source": [
    "Apply SMOTE for Balancing Data"
   ]
  },
  {
   "cell_type": "code",
   "execution_count": 33,
   "metadata": {},
   "outputs": [
    {
     "data": {
      "text/plain": [
       "Interest Label Encoded\n",
       "3    944\n",
       "6    944\n",
       "4    944\n",
       "5    944\n",
       "1    944\n",
       "2    944\n",
       "0    944\n",
       "Name: count, dtype: int64"
      ]
     },
     "execution_count": 33,
     "metadata": {},
     "output_type": "execute_result"
    }
   ],
   "source": [
    "# Apply SMOTE to balance the dataset\n",
    "smote = SMOTE(random_state=42)\n",
    "X_train_resampled, y_train_resampled = smote.fit_resample(X_train, y_train)\n",
    "\n",
    "# Check class distribution after SMOTE\n",
    "pd.Series(y_train_resampled).value_counts()"
   ]
  },
  {
   "cell_type": "markdown",
   "metadata": {},
   "source": [
    "Feature Scaling"
   ]
  },
  {
   "cell_type": "code",
   "execution_count": 34,
   "metadata": {},
   "outputs": [],
   "source": [
    "# Scale features using StandardScaler\n",
    "scaler = StandardScaler()\n",
    "X_train_scaled = scaler.fit_transform(X_train_resampled)\n",
    "X_test_scaled = scaler.transform(X_test)"
   ]
  },
  {
   "cell_type": "markdown",
   "metadata": {},
   "source": [
    "Train XGBoost Model"
   ]
  },
  {
   "cell_type": "code",
   "execution_count": 35,
   "metadata": {},
   "outputs": [
    {
     "name": "stdout",
     "output_type": "stream",
     "text": [
      "XGBoost Accuracy After SMOTE: 0.1875\n",
      "\n",
      "Classification Report:\n",
      "               precision    recall  f1-score   support\n",
      "\n",
      "           0       0.11      0.12      0.11        95\n",
      "           1       0.14      0.16      0.15        94\n",
      "           2       0.09      0.09      0.09        91\n",
      "           3       0.07      0.07      0.07        94\n",
      "           4       0.40      0.37      0.38       236\n",
      "           5       0.11      0.12      0.11        90\n",
      "           6       0.12      0.11      0.11       100\n",
      "\n",
      "    accuracy                           0.19       800\n",
      "   macro avg       0.15      0.15      0.15       800\n",
      "weighted avg       0.19      0.19      0.19       800\n",
      "\n"
     ]
    }
   ],
   "source": [
    "# Initialize XGBoost model\n",
    "xgb_model = XGBClassifier(n_estimators=1000, max_depth=6, learning_rate=0.5, random_state=42)\n",
    "\n",
    "# Train the model\n",
    "xgb_model.fit(X_train_scaled, y_train_resampled)\n",
    "\n",
    "# Make predictions\n",
    "y_pred_xgb = xgb_model.predict(X_test_scaled)\n",
    "\n",
    "# Evaluate the model\n",
    "accuracy_xgb = accuracy_score(y_test, y_pred_xgb)\n",
    "print(\"XGBoost Accuracy After SMOTE:\", accuracy_xgb)\n",
    "print(\"\\nClassification Report:\\n\", classification_report(y_test, y_pred_xgb))"
   ]
  },
  {
   "cell_type": "markdown",
   "metadata": {},
   "source": [
    "Hyperparameter Tuning (GridSearchCV)"
   ]
  },
  {
   "cell_type": "code",
   "execution_count": 36,
   "metadata": {},
   "outputs": [
    {
     "name": "stderr",
     "output_type": "stream",
     "text": [
      "c:\\Users\\simran dhillon\\AppData\\Local\\Programs\\Python\\Python310\\lib\\site-packages\\xgboost\\core.py:158: UserWarning: [15:38:38] WARNING: C:\\buildkite-agent\\builds\\buildkite-windows-cpu-autoscaling-group-i-0c55ff5f71b100e98-1\\xgboost\\xgboost-ci-windows\\src\\learner.cc:740: \n",
      "Parameters: { \"use_label_encoder\" } are not used.\n",
      "\n",
      "  warnings.warn(smsg, UserWarning)\n"
     ]
    },
    {
     "name": "stdout",
     "output_type": "stream",
     "text": [
      "Best Parameters: {'colsample_bytree': 0.9, 'learning_rate': 0.1, 'max_depth': 8, 'n_estimators': 300, 'subsample': 0.8}\n",
      "Best Cross-Validation Score: 0.6493796818758081\n",
      "Test Accuracy: 0.2125\n"
     ]
    }
   ],
   "source": [
    "from xgboost import XGBClassifier\n",
    "from sklearn.model_selection import GridSearchCV\n",
    "from sklearn.metrics import accuracy_score\n",
    "\n",
    "param_grid = {\n",
    "    'n_estimators': [100, 200, 300],\n",
    "    'max_depth': [4, 6, 8],\n",
    "    'learning_rate': [0.01, 0.05, 0.1],\n",
    "    'subsample': [0.7, 0.8, 0.9],\n",
    "    'colsample_bytree': [0.7, 0.8, 0.9]\n",
    "}\n",
    "\n",
    "# Ensure y_train_resampled has more than 2 classes\n",
    "num_classes = len(set(y_train_resampled))\n",
    "\n",
    "xgb = XGBClassifier(\n",
    "    objective=\"multi:softprob\" if num_classes > 2 else \"binary:logistic\",  # Automatically choose objective\n",
    "    random_state=42,\n",
    "    use_label_encoder=False,\n",
    "    eval_metric='mlogloss'  # Log loss for multi-class classification\n",
    ")\n",
    "\n",
    "grid_search = GridSearchCV(\n",
    "    estimator=xgb,\n",
    "    param_grid=param_grid,\n",
    "    scoring='accuracy',\n",
    "    cv=5,\n",
    "    n_jobs=-1  # Use all available processors\n",
    ")\n",
    "\n",
    "# Fit the model\n",
    "grid_search.fit(X_train_scaled, y_train_resampled)\n",
    "\n",
    "# Best parameters and score\n",
    "print(\"Best Parameters:\", grid_search.best_params_)\n",
    "print(\"Best Cross-Validation Score:\", grid_search.best_score_)\n",
    "\n",
    "# Get the best model and test accuracy\n",
    "best_xgb = grid_search.best_estimator_\n",
    "y_pred = best_xgb.predict(X_test_scaled)\n",
    "accuracy = accuracy_score(y_test, y_pred)\n",
    "print(f\"Test Accuracy: {accuracy:.4f}\")\n"
   ]
  },
  {
   "cell_type": "markdown",
   "metadata": {},
   "source": [
    "Train Stacking Model"
   ]
  },
  {
   "cell_type": "code",
   "execution_count": 37,
   "metadata": {},
   "outputs": [
    {
     "name": "stdout",
     "output_type": "stream",
     "text": [
      "Stacking Model Accuracy: 0.245\n",
      "\n",
      "Classification Report:\n",
      "               precision    recall  f1-score   support\n",
      "\n",
      "           0       0.14      0.12      0.12        95\n",
      "           1       0.17      0.13      0.15        94\n",
      "           2       0.04      0.03      0.04        91\n",
      "           3       0.11      0.09      0.10        94\n",
      "           4       0.39      0.60      0.47       236\n",
      "           5       0.15      0.11      0.13        90\n",
      "           6       0.15      0.11      0.13       100\n",
      "\n",
      "    accuracy                           0.24       800\n",
      "   macro avg       0.16      0.17      0.16       800\n",
      "weighted avg       0.20      0.24      0.22       800\n",
      "\n"
     ]
    }
   ],
   "source": [
    "# Stacking model with RandomForest and XGBoost\n",
    "stack_model = StackingClassifier(\n",
    "    estimators=[\n",
    "        ('rf', RandomForestClassifier(n_estimators=100, random_state=42)),\n",
    "        ('xgb', XGBClassifier(n_estimators=200, max_depth=6, learning_rate=0.1, random_state=42))\n",
    "    ],\n",
    "    final_estimator=RandomForestClassifier(n_estimators=100, random_state=42)\n",
    ")\n",
    "\n",
    "stack_model.fit(X_train_scaled, y_train_resampled)\n",
    "y_pred_stack = stack_model.predict(X_test_scaled)\n",
    "\n",
    "# Evaluate Stacking Model\n",
    "print(\"Stacking Model Accuracy:\", accuracy_score(y_test, y_pred_stack))\n",
    "print(\"\\nClassification Report:\\n\", classification_report(y_test, y_pred_stack))"
   ]
  },
  {
   "cell_type": "markdown",
   "metadata": {},
   "source": [
    "Voting Classifier"
   ]
  },
  {
   "cell_type": "code",
   "execution_count": 38,
   "metadata": {},
   "outputs": [
    {
     "name": "stdout",
     "output_type": "stream",
     "text": [
      "Voting Classifier Accuracy: 0.25\n"
     ]
    }
   ],
   "source": [
    "from sklearn.ensemble import VotingClassifier\n",
    "from sklearn.ensemble import RandomForestClassifier\n",
    "from sklearn.linear_model import LogisticRegression\n",
    "from sklearn.svm import SVC\n",
    "\n",
    "rf = RandomForestClassifier(n_estimators=200, random_state=42)\n",
    "xgb = XGBClassifier(n_estimators=200, learning_rate=0.1, random_state=42)\n",
    "svc = SVC(kernel='rbf', probability=True)\n",
    "\n",
    "voting_clf = VotingClassifier(\n",
    "    estimators=[('rf', rf), ('xgb', xgb), ('svc', svc)],\n",
    "    voting='soft'\n",
    ")\n",
    "\n",
    "voting_clf.fit(X_train_scaled, y_train_resampled)\n",
    "print(\"Voting Classifier Accuracy:\", voting_clf.score(X_test_scaled, y_test))"
   ]
  }
 ],
 "metadata": {
  "kernelspec": {
   "display_name": "Python 3",
   "language": "python",
   "name": "python3"
  },
  "language_info": {
   "codemirror_mode": {
    "name": "ipython",
    "version": 3
   },
   "file_extension": ".py",
   "mimetype": "text/x-python",
   "name": "python",
   "nbconvert_exporter": "python",
   "pygments_lexer": "ipython3",
   "version": "3.10.0"
  }
 },
 "nbformat": 4,
 "nbformat_minor": 2
}
