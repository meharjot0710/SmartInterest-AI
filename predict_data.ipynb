{
 "cells": [
  {
   "cell_type": "markdown",
   "metadata": {},
   "source": [
    "'AI': 1,\n",
    "'Web Development': 2,\n",
    "'Machine Learning': 3,\n",
    "'Cybersecurity': 4,\n",
    "'Data Science': 5,\n",
    "'Robotics': 6,\n",
    "'Game Development': 7"
   ]
  },
  {
   "cell_type": "code",
   "execution_count": 22,
   "metadata": {},
   "outputs": [],
   "source": [
    "import joblib\n",
    "import pandas as pd"
   ]
  },
  {
   "cell_type": "code",
   "execution_count": 23,
   "metadata": {},
   "outputs": [
    {
     "name": "stdout",
     "output_type": "stream",
     "text": [
      "Predicted Interest: Machine Learning\n"
     ]
    }
   ],
   "source": [
    "# Load the trained model and label encoder\n",
    "loaded_model = joblib.load(\"smartinterest_model.pkl\")\n",
    "label_encoder = joblib.load(\"label_encoder.pkl\")  # Load the label encoder used in training\n",
    "\n",
    "# Define new test data\n",
    "new_data = {\n",
    "    'Operating System': [85],\n",
    "    'DSA': [80],\n",
    "    'Frontend': [80],\n",
    "    'Backend': [75],\n",
    "    'Machine Learning': [88],\n",
    "    'Data Analytics': [92],\n",
    "    'Project 1': [3],\n",
    "    'Project 2': [1],\n",
    "    'Project 3': [6],\n",
    "    'Project 4': [3]\n",
    "}\n",
    "\n",
    "# Convert to DataFrame\n",
    "new_data_df = pd.DataFrame(new_data)\n",
    "\n",
    "# Predict interest (outputs a number)\n",
    "predicted_interest_numeric = loaded_model.predict(new_data_df)\n",
    "\n",
    "# Convert numeric label back to domain name\n",
    "predicted_interest_label = label_encoder.inverse_transform(predicted_interest_numeric)\n",
    "\n",
    "print(f\"Predicted Interest: {predicted_interest_label[0]}\")"
   ]
  }
 ],
 "metadata": {
  "kernelspec": {
   "display_name": "Python 3",
   "language": "python",
   "name": "python3"
  },
  "language_info": {
   "codemirror_mode": {
    "name": "ipython",
    "version": 3
   },
   "file_extension": ".py",
   "mimetype": "text/x-python",
   "name": "python",
   "nbconvert_exporter": "python",
   "pygments_lexer": "ipython3",
   "version": "3.10.0"
  }
 },
 "nbformat": 4,
 "nbformat_minor": 2
}
