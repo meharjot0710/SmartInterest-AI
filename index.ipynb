{
 "cells": [
  {
   "cell_type": "markdown",
   "metadata": {},
   "source": [
    "Step -1 : Load and Inspect the Dataset"
   ]
  },
  {
   "cell_type": "code",
   "execution_count": 5,
   "metadata": {},
   "outputs": [
    {
     "name": "stdout",
     "output_type": "stream",
     "text": [
      "   Student ID  Operating System  DSA  Frontend  Backend  Machine Learning  \\\n",
      "0           1                88   78        68       70                86   \n",
      "1           2                65   68        78       92                84   \n",
      "2           3                73   69        82       74                67   \n",
      "3           4                85   95        58       52                89   \n",
      "4           5                64   55        70       50                84   \n",
      "\n",
      "   Data Analytics  Attendance (Operating System)  Attendance (DSA)  \\\n",
      "0              86                             75                97   \n",
      "1              64                             71                83   \n",
      "2              76                             96                91   \n",
      "3              51                             79                91   \n",
      "4              58                             74                87   \n",
      "\n",
      "   Attendance (Frontend)  Attendance (Backend)  Attendance (Machine Learning)  \\\n",
      "0                     86                    74                             76   \n",
      "1                     97                    96                             96   \n",
      "2                     99                    84                             70   \n",
      "3                     70                    96                             76   \n",
      "4                     86                    81                             94   \n",
      "\n",
      "   Attendance (Data Analytics)         Project 1        Project 2  \\\n",
      "0                           83  Game Development  Web Development   \n",
      "1                           97          Robotics  Web Development   \n",
      "2                           85      Data Science  Web Development   \n",
      "3                           86  Game Development     Data Science   \n",
      "4                           91                AI    Cybersecurity   \n",
      "\n",
      "          Project 3         Project 4  \n",
      "0  Game Development      Data Science  \n",
      "1                AI  Game Development  \n",
      "2      Data Science   Web Development  \n",
      "3   Web Development  Game Development  \n",
      "4     Cybersecurity   Web Development  \n",
      "<class 'pandas.core.frame.DataFrame'>\n",
      "RangeIndex: 1000 entries, 0 to 999\n",
      "Data columns (total 17 columns):\n",
      " #   Column                         Non-Null Count  Dtype \n",
      "---  ------                         --------------  ----- \n",
      " 0   Student ID                     1000 non-null   int64 \n",
      " 1   Operating System               1000 non-null   int64 \n",
      " 2   DSA                            1000 non-null   int64 \n",
      " 3   Frontend                       1000 non-null   int64 \n",
      " 4   Backend                        1000 non-null   int64 \n",
      " 5   Machine Learning               1000 non-null   int64 \n",
      " 6   Data Analytics                 1000 non-null   int64 \n",
      " 7   Attendance (Operating System)  1000 non-null   int64 \n",
      " 8   Attendance (DSA)               1000 non-null   int64 \n",
      " 9   Attendance (Frontend)          1000 non-null   int64 \n",
      " 10  Attendance (Backend)           1000 non-null   int64 \n",
      " 11  Attendance (Machine Learning)  1000 non-null   int64 \n",
      " 12  Attendance (Data Analytics)    1000 non-null   int64 \n",
      " 13  Project 1                      1000 non-null   object\n",
      " 14  Project 2                      1000 non-null   object\n",
      " 15  Project 3                      1000 non-null   object\n",
      " 16  Project 4                      1000 non-null   object\n",
      "dtypes: int64(13), object(4)\n",
      "memory usage: 132.9+ KB\n",
      "None\n",
      "        Student ID  Operating System          DSA     Frontend      Backend  \\\n",
      "count  1000.000000       1000.000000  1000.000000  1000.000000  1000.000000   \n",
      "mean    500.500000         74.901000    74.315000    74.897000    74.972000   \n",
      "std     288.819436         14.441113    14.734819    14.619922    14.772049   \n",
      "min       1.000000         50.000000    50.000000    50.000000    50.000000   \n",
      "25%     250.750000         63.000000    61.000000    62.000000    62.000000   \n",
      "50%     500.500000         74.000000    74.000000    75.000000    75.000000   \n",
      "75%     750.250000         87.000000    87.000000    87.000000    88.000000   \n",
      "max    1000.000000        100.000000   100.000000   100.000000   100.000000   \n",
      "\n",
      "       Machine Learning  Data Analytics  Attendance (Operating System)  \\\n",
      "count       1000.000000     1000.000000                    1000.000000   \n",
      "mean          74.911000       75.533000                      84.708000   \n",
      "std           14.759435       14.404666                       8.802512   \n",
      "min           50.000000       50.000000                      70.000000   \n",
      "25%           63.000000       63.000000                      77.000000   \n",
      "50%           75.000000       76.000000                      84.000000   \n",
      "75%           88.000000       88.000000                      93.000000   \n",
      "max          100.000000      100.000000                     100.000000   \n",
      "\n",
      "       Attendance (DSA)  Attendance (Frontend)  Attendance (Backend)  \\\n",
      "count       1000.000000            1000.000000           1000.000000   \n",
      "mean          85.174000              85.104000             84.922000   \n",
      "std            9.009934               8.975396              8.990035   \n",
      "min           70.000000              70.000000             70.000000   \n",
      "25%           77.000000              78.000000             77.000000   \n",
      "50%           85.000000              86.000000             85.000000   \n",
      "75%           93.000000              93.000000             93.000000   \n",
      "max          100.000000             100.000000            100.000000   \n",
      "\n",
      "       Attendance (Machine Learning)  Attendance (Data Analytics)  \n",
      "count                    1000.000000                  1000.000000  \n",
      "mean                       84.784000                    85.069000  \n",
      "std                         9.153203                     8.974898  \n",
      "min                        70.000000                    70.000000  \n",
      "25%                        76.000000                    77.000000  \n",
      "50%                        85.000000                    85.000000  \n",
      "75%                        93.000000                    93.000000  \n",
      "max                       100.000000                   100.000000  \n",
      "Student ID                       0\n",
      "Operating System                 0\n",
      "DSA                              0\n",
      "Frontend                         0\n",
      "Backend                          0\n",
      "Machine Learning                 0\n",
      "Data Analytics                   0\n",
      "Attendance (Operating System)    0\n",
      "Attendance (DSA)                 0\n",
      "Attendance (Frontend)            0\n",
      "Attendance (Backend)             0\n",
      "Attendance (Machine Learning)    0\n",
      "Attendance (Data Analytics)      0\n",
      "Project 1                        0\n",
      "Project 2                        0\n",
      "Project 3                        0\n",
      "Project 4                        0\n",
      "dtype: int64\n"
     ]
    }
   ],
   "source": [
    "import pandas as pd\n",
    "\n",
    "# Load the dataset\n",
    "df = pd.read_csv('student_data.csv')\n",
    "\n",
    "# Inspect the dataset\n",
    "print(df.head())        # View the first 5 rows\n",
    "print(df.info())        # Summary of columns and data types\n",
    "print(df.describe())    # Statistics for numerical columns\n",
    "\n",
    "# Check for missing values\n",
    "print(df.isnull().sum())"
   ]
  },
  {
   "cell_type": "markdown",
   "metadata": {},
   "source": [
    "Step 2 : Preprocess the Data"
   ]
  },
  {
   "cell_type": "code",
   "execution_count": 6,
   "metadata": {},
   "outputs": [],
   "source": [
    "from sklearn.preprocessing import StandardScaler, OneHotEncoder\n",
    "\n",
    "# Select numerical features\n",
    "numerical_features = df[['Operating System', 'DSA', 'Frontend', 'Backend', \n",
    "                         'Machine Learning', 'Data Analytics',\n",
    "                         'Attendance (Operating System)', 'Attendance (DSA)', \n",
    "                         'Attendance (Frontend)', 'Attendance (Backend)', \n",
    "                         'Attendance (Machine Learning)', 'Attendance (Data Analytics)']]\n",
    "\n",
    "# Scale numerical features\n",
    "scaler = StandardScaler()\n",
    "scaled_features = scaler.fit_transform(numerical_features)\n",
    "\n",
    "# Encode project domains\n",
    "project_columns = ['Project 1', 'Project 2', 'Project 3', 'Project 4']\n",
    "projects_encoded = pd.get_dummies(df[project_columns].stack()).groupby(level=0).sum()\n",
    "\n",
    "# Combine scaled numerical features and encoded project data\n",
    "final_data = pd.concat([pd.DataFrame(scaled_features, columns=numerical_features.columns), projects_encoded], axis=1)"
   ]
  },
  {
   "cell_type": "markdown",
   "metadata": {},
   "source": [
    "Step 3 : Apply K-Means Clustering"
   ]
  },
  {
   "cell_type": "code",
   "execution_count": 7,
   "metadata": {},
   "outputs": [
    {
     "name": "stdout",
     "output_type": "stream",
     "text": [
      "Cluster\n",
      "1          340\n",
      "2          333\n",
      "0          327\n",
      "Name: count, dtype: int64\n"
     ]
    }
   ],
   "source": [
    "from sklearn.cluster import KMeans\n",
    "\n",
    "# Apply K-Means\n",
    "kmeans = KMeans(n_clusters=3, random_state=42)\n",
    "df['Cluster'] = kmeans.fit_predict(final_data)\n",
    "\n",
    "# Inspect cluster assignments\n",
    "print(df[['Cluster']].value_counts())\n"
   ]
  }
 ],
 "metadata": {
  "kernelspec": {
   "display_name": "Python 3",
   "language": "python",
   "name": "python3"
  },
  "language_info": {
   "codemirror_mode": {
    "name": "ipython",
    "version": 3
   },
   "file_extension": ".py",
   "mimetype": "text/x-python",
   "name": "python",
   "nbconvert_exporter": "python",
   "pygments_lexer": "ipython3",
   "version": "3.10.0"
  }
 },
 "nbformat": 4,
 "nbformat_minor": 2
}
